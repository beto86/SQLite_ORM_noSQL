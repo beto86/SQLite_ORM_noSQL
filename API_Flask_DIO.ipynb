{
  "nbformat": 4,
  "nbformat_minor": 0,
  "metadata": {
    "colab": {
      "provenance": [],
      "toc_visible": true,
      "authorship_tag": "ABX9TyOen0IGOH13otaC6a73vHVj",
      "include_colab_link": true
    },
    "kernelspec": {
      "name": "python3",
      "display_name": "Python 3"
    },
    "language_info": {
      "name": "python"
    }
  },
  "cells": [
    {
      "cell_type": "markdown",
      "metadata": {
        "id": "view-in-github",
        "colab_type": "text"
      },
      "source": [
        "<a href=\"https://colab.research.google.com/github/beto86/SQLite_ORM_noSQL/blob/main/API_Flask_DIO.ipynb\" target=\"_parent\"><img src=\"https://colab.research.google.com/assets/colab-badge.svg\" alt=\"Open In Colab\"/></a>"
      ]
    },
    {
      "cell_type": "code",
      "execution_count": 1,
      "metadata": {
        "colab": {
          "base_uri": "https://localhost:8080/"
        },
        "id": "bQl3szT4d5pI",
        "outputId": "a052ca93-0b8c-4496-c426-671a4a5c4492"
      },
      "outputs": [
        {
          "output_type": "stream",
          "name": "stdout",
          "text": [
            "Looking in indexes: https://pypi.org/simple, https://us-python.pkg.dev/colab-wheels/public/simple/\n",
            "Collecting flask_ngrok\n",
            "  Downloading flask_ngrok-0.0.25-py3-none-any.whl (3.1 kB)\n",
            "Requirement already satisfied: requests in /usr/local/lib/python3.8/dist-packages (from flask_ngrok) (2.25.1)\n",
            "Requirement already satisfied: Flask>=0.8 in /usr/local/lib/python3.8/dist-packages (from flask_ngrok) (2.2.3)\n",
            "Requirement already satisfied: itsdangerous>=2.0 in /usr/local/lib/python3.8/dist-packages (from Flask>=0.8->flask_ngrok) (2.1.2)\n",
            "Requirement already satisfied: click>=8.0 in /usr/local/lib/python3.8/dist-packages (from Flask>=0.8->flask_ngrok) (8.1.3)\n",
            "Requirement already satisfied: Jinja2>=3.0 in /usr/local/lib/python3.8/dist-packages (from Flask>=0.8->flask_ngrok) (3.1.2)\n",
            "Requirement already satisfied: importlib-metadata>=3.6.0 in /usr/local/lib/python3.8/dist-packages (from Flask>=0.8->flask_ngrok) (6.0.0)\n",
            "Requirement already satisfied: Werkzeug>=2.2.2 in /usr/local/lib/python3.8/dist-packages (from Flask>=0.8->flask_ngrok) (2.2.3)\n",
            "Requirement already satisfied: urllib3<1.27,>=1.21.1 in /usr/local/lib/python3.8/dist-packages (from requests->flask_ngrok) (1.26.14)\n",
            "Requirement already satisfied: idna<3,>=2.5 in /usr/local/lib/python3.8/dist-packages (from requests->flask_ngrok) (2.10)\n",
            "Requirement already satisfied: chardet<5,>=3.0.2 in /usr/local/lib/python3.8/dist-packages (from requests->flask_ngrok) (4.0.0)\n",
            "Requirement already satisfied: certifi>=2017.4.17 in /usr/local/lib/python3.8/dist-packages (from requests->flask_ngrok) (2022.12.7)\n",
            "Requirement already satisfied: zipp>=0.5 in /usr/local/lib/python3.8/dist-packages (from importlib-metadata>=3.6.0->Flask>=0.8->flask_ngrok) (3.15.0)\n",
            "Requirement already satisfied: MarkupSafe>=2.0 in /usr/local/lib/python3.8/dist-packages (from Jinja2>=3.0->Flask>=0.8->flask_ngrok) (2.1.2)\n",
            "Installing collected packages: flask_ngrok\n",
            "Successfully installed flask_ngrok-0.0.25\n"
          ]
        }
      ],
      "source": [
        "!pip install flask_ngrok\n"
      ]
    },
    {
      "cell_type": "code",
      "source": [
        "import pandas as pd\n",
        "from flask_ngrok import run_with_ngrok\n",
        "from flask import request, jsonify, Flask\n",
        "import random as rk"
      ],
      "metadata": {
        "id": "ripg5uJjeHsb"
      },
      "execution_count": 2,
      "outputs": []
    },
    {
      "cell_type": "code",
      "source": [
        "app = Flask(__name__) #the name of the application package\n",
        "run_with_ngrok(app) "
      ],
      "metadata": {
        "id": "KF4RQTY6eKKh"
      },
      "execution_count": 3,
      "outputs": []
    },
    {
      "cell_type": "code",
      "source": [
        "d = [{\n",
        "    \"number\": 1,\n",
        "    \"name\": \"Mahesh\", \n",
        "    \"age\": 25, \n",
        "    \"city\": \"Bangalore\",\n",
        "    \"country\": \"India\"\n",
        "    },\n",
        "    {\n",
        "    \"number\": 2,\n",
        "    \"name\": \"Alex\", \n",
        "    \"age\": 26, \n",
        "    \"city\": \"London\",\n",
        "    \"country\": \"UK\"\n",
        "    },\n",
        "    {\n",
        "    \"number\": 3,\n",
        "    \"name\": \"David\", \n",
        "    \"age\": 27, \n",
        "    \"city\": \"San Francisco\",\n",
        "    \"country\": \"USA\"\n",
        "    },\n",
        "    {\n",
        "    \"number\": 4,\n",
        "    \"name\": \"Jonhn\", \n",
        "    \"age\": 28, \n",
        "    \"city\": \"Toronto\",\n",
        "    \"country\": \"Canada\"\n",
        "    },\n",
        "         {\n",
        "    \"number\": 5,\n",
        "    \"name\": \"Chris\", \n",
        "    \"age\": 29, \n",
        "    \"city\": \"Paris\",\n",
        "    \"country\": \"France\"\n",
        "    },\n",
        "     ]"
      ],
      "metadata": {
        "id": "-IRLjlAuePU6"
      },
      "execution_count": 10,
      "outputs": []
    },
    {
      "cell_type": "code",
      "source": [
        "@app.route(\"/\") #code to assign HomePage URL in our app to function home.\n",
        "\n",
        "def home():\n",
        "    '''\n",
        "    The entire line below must be written in a single line.\n",
        "    '''\n",
        "    return \"<marquee><h3> TO CHECK IN PUT ADD '/input' TO THE URL AND TO CHECK OUT PUT ADD '/output' TO THE URL.</h3></marquee>\""
      ],
      "metadata": {
        "id": "GvPCyn0SgM5g"
      },
      "execution_count": null,
      "outputs": []
    },
    {
      "cell_type": "code",
      "source": [
        "@app.route(\"/input\") #code to assign Input URL in our app to function input.\n",
        "\n",
        "def input():\n",
        "    return jsonify(d) # \"d\" is the dictionary we defined"
      ],
      "metadata": {
        "id": "JmdqzW9RgRd_"
      },
      "execution_count": 6,
      "outputs": []
    },
    {
      "cell_type": "code",
      "source": [
        "@app.route('/output', methods=['GET','POST']) #output page\n",
        "\n",
        "def predJson():\n",
        "    pred = r.choice([\"positive\",\"negative\"])\n",
        "    nd = d # our input\n",
        "    nd[\"prediction\"]=pred\n",
        "    return jsonify(nd)\n",
        "\n",
        "app.run()"
      ],
      "metadata": {
        "id": "8KAD-SeSgUyf"
      },
      "execution_count": null,
      "outputs": []
    }
  ]
}